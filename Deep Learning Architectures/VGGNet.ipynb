version https://git-lfs.github.com/spec/v1
oid sha256:4e3c76bf4e6632b9c508b8d92cbb72daddbda821b24ec95250aaf415df65c080
size 1310872
